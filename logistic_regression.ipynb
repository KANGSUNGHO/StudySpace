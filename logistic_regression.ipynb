{
 "cells": [
  {
   "cell_type": "markdown",
   "metadata": {},
   "source": [
    "## 참(1)과 거짓(0)으로 분류하는 로지스틱 회귀"
   ]
  },
  {
   "cell_type": "code",
   "execution_count": 1,
   "metadata": {},
   "outputs": [
    {
     "name": "stderr",
     "output_type": "stream",
     "text": [
      "C:\\Users\\KANGSUNGHO\\Anaconda3\\envs\\deep\\lib\\site-packages\\tensorflow\\python\\framework\\dtypes.py:526: FutureWarning: Passing (type, 1) or '1type' as a synonym of type is deprecated; in a future version of numpy, it will be understood as (type, (1,)) / '(1,)type'.\n",
      "  _np_qint8 = np.dtype([(\"qint8\", np.int8, 1)])\n",
      "C:\\Users\\KANGSUNGHO\\Anaconda3\\envs\\deep\\lib\\site-packages\\tensorflow\\python\\framework\\dtypes.py:527: FutureWarning: Passing (type, 1) or '1type' as a synonym of type is deprecated; in a future version of numpy, it will be understood as (type, (1,)) / '(1,)type'.\n",
      "  _np_quint8 = np.dtype([(\"quint8\", np.uint8, 1)])\n",
      "C:\\Users\\KANGSUNGHO\\Anaconda3\\envs\\deep\\lib\\site-packages\\tensorflow\\python\\framework\\dtypes.py:528: FutureWarning: Passing (type, 1) or '1type' as a synonym of type is deprecated; in a future version of numpy, it will be understood as (type, (1,)) / '(1,)type'.\n",
      "  _np_qint16 = np.dtype([(\"qint16\", np.int16, 1)])\n",
      "C:\\Users\\KANGSUNGHO\\Anaconda3\\envs\\deep\\lib\\site-packages\\tensorflow\\python\\framework\\dtypes.py:529: FutureWarning: Passing (type, 1) or '1type' as a synonym of type is deprecated; in a future version of numpy, it will be understood as (type, (1,)) / '(1,)type'.\n",
      "  _np_quint16 = np.dtype([(\"quint16\", np.uint16, 1)])\n",
      "C:\\Users\\KANGSUNGHO\\Anaconda3\\envs\\deep\\lib\\site-packages\\tensorflow\\python\\framework\\dtypes.py:530: FutureWarning: Passing (type, 1) or '1type' as a synonym of type is deprecated; in a future version of numpy, it will be understood as (type, (1,)) / '(1,)type'.\n",
      "  _np_qint32 = np.dtype([(\"qint32\", np.int32, 1)])\n",
      "C:\\Users\\KANGSUNGHO\\Anaconda3\\envs\\deep\\lib\\site-packages\\tensorflow\\python\\framework\\dtypes.py:535: FutureWarning: Passing (type, 1) or '1type' as a synonym of type is deprecated; in a future version of numpy, it will be understood as (type, (1,)) / '(1,)type'.\n",
      "  np_resource = np.dtype([(\"resource\", np.ubyte, 1)])\n"
     ]
    }
   ],
   "source": [
    "import tensorflow as tf\n",
    "import numpy as np"
   ]
  },
  {
   "cell_type": "code",
   "execution_count": 2,
   "metadata": {},
   "outputs": [],
   "source": [
    "# x,y의 데이터 값\n",
    "data = [[2,0],[4,0],[6,0],[8,1],[10,1],[12,1],[14,1]]\n",
    "x_data = [x_row[0] for x_row in data]\n",
    "y_data = [y_row[1] for y_row in data]"
   ]
  },
  {
   "cell_type": "code",
   "execution_count": 3,
   "metadata": {},
   "outputs": [
    {
     "name": "stdout",
     "output_type": "stream",
     "text": [
      "WARNING:tensorflow:From C:\\Users\\KANGSUNGHO\\Anaconda3\\envs\\deep\\lib\\site-packages\\tensorflow\\python\\framework\\op_def_library.py:263: colocate_with (from tensorflow.python.framework.ops) is deprecated and will be removed in a future version.\n",
      "Instructions for updating:\n",
      "Colocations handled automatically by placer.\n"
     ]
    }
   ],
   "source": [
    "# a와 b의 값을 임의로 정한다\n",
    "a = tf.Variable(tf.random_normal([1],dtype=tf.float64,seed=0))\n",
    "b = tf.Variable(tf.random_normal([1],dtype=tf.float64,seed=0))"
   ]
  },
  {
   "cell_type": "code",
   "execution_count": 5,
   "metadata": {},
   "outputs": [],
   "source": [
    "# y 시그모이드 함수의 방정식을 세운다\n",
    "y = 1/(1 + np.e**(a*x_data + b))"
   ]
  },
  {
   "cell_type": "code",
   "execution_count": 6,
   "metadata": {},
   "outputs": [],
   "source": [
    "# loss를 구하는 함수\n",
    "loss = -tf.reduce_mean(np.array(y_data) * tf.log(y) + (1- np.array(y_data))*tf.log(1-y))"
   ]
  },
  {
   "cell_type": "code",
   "execution_count": 7,
   "metadata": {},
   "outputs": [],
   "source": [
    "# 학습률 값\n",
    "learning_rate = 0.5"
   ]
  },
  {
   "cell_type": "code",
   "execution_count": 9,
   "metadata": {},
   "outputs": [],
   "source": [
    "# loss를 최소로 하는 값 찾기\n",
    "gradient_decent = tf.train.GradientDescentOptimizer(learning_rate).minimize(loss)"
   ]
  },
  {
   "cell_type": "code",
   "execution_count": 11,
   "metadata": {},
   "outputs": [
    {
     "name": "stdout",
     "output_type": "stream",
     "text": [
      "Epoch: 0, loss= 1.2676, 기울기 a= 0.1849, y절편= -0.4334\n",
      "Epoch: 600, loss= 0.0727, 기울기 a= -1.3435, y절편= 9.1978\n",
      "Epoch: 1200, loss= 0.0501, 기울기 a= -1.7056, y절편= 11.7600\n",
      "Epoch: 1800, loss= 0.0388, 기울기 a= -1.9638, y절편= 13.5787\n",
      "Epoch: 2400, loss= 0.0317, 기울기 a= -2.1681, y절편= 15.0150\n",
      "Epoch: 3000, loss= 0.0269, 기울기 a= -2.3380, y절편= 16.2087\n",
      "Epoch: 3600, loss= 0.0233, 기울기 a= -2.4839, y절편= 17.2320\n",
      "Epoch: 4200, loss= 0.0206, 기울기 a= -2.6116, y절편= 18.1284\n",
      "Epoch: 4800, loss= 0.0184, 기울기 a= -2.7254, y절편= 18.9260\n",
      "Epoch: 5400, loss= 0.0166, 기울기 a= -2.8278, y절편= 19.6445\n",
      "Epoch: 6000, loss= 0.0152, 기울기 a= -2.9211, y절편= 20.2982\n",
      "Epoch: 6600, loss= 0.0140, 기울기 a= -3.0066, y절편= 20.8977\n",
      "Epoch: 7200, loss= 0.0129, 기울기 a= -3.0856, y절편= 21.4514\n",
      "Epoch: 7800, loss= 0.0120, 기울기 a= -3.1590, y절편= 21.9656\n",
      "Epoch: 8400, loss= 0.0112, 기울기 a= -3.2275, y절편= 22.4457\n",
      "Epoch: 9000, loss= 0.0106, 기울기 a= -3.2918, y절편= 22.8957\n",
      "Epoch: 9600, loss= 0.0099, 기울기 a= -3.3522, y절편= 23.3193\n",
      "Epoch: 10200, loss= 0.0094, 기울기 a= -3.4093, y절편= 23.7194\n",
      "Epoch: 10800, loss= 0.0089, 기울기 a= -3.4634, y절편= 24.0983\n",
      "Epoch: 11400, loss= 0.0085, 기울기 a= -3.5148, y절편= 24.4583\n",
      "Epoch: 12000, loss= 0.0081, 기울기 a= -3.5637, y절편= 24.8010\n",
      "Epoch: 12600, loss= 0.0077, 기울기 a= -3.6104, y절편= 25.1281\n",
      "Epoch: 13200, loss= 0.0074, 기울기 a= -3.6551, y절편= 25.4409\n",
      "Epoch: 13800, loss= 0.0071, 기울기 a= -3.6979, y절편= 25.7406\n",
      "Epoch: 14400, loss= 0.0068, 기울기 a= -3.7390, y절편= 26.0282\n",
      "Epoch: 15000, loss= 0.0065, 기울기 a= -3.7784, y절편= 26.3048\n",
      "Epoch: 15600, loss= 0.0063, 기울기 a= -3.8164, y절편= 26.5710\n",
      "Epoch: 16200, loss= 0.0061, 기울기 a= -3.8531, y절편= 26.8276\n",
      "Epoch: 16800, loss= 0.0059, 기울기 a= -3.8885, y절편= 27.0753\n",
      "Epoch: 17400, loss= 0.0057, 기울기 a= -3.9226, y절편= 27.3147\n",
      "Epoch: 18000, loss= 0.0055, 기울기 a= -3.9557, y절편= 27.5463\n",
      "Epoch: 18600, loss= 0.0053, 기울기 a= -3.9878, y절편= 27.7706\n",
      "Epoch: 19200, loss= 0.0051, 기울기 a= -4.0188, y절편= 27.9881\n",
      "Epoch: 19800, loss= 0.0050, 기울기 a= -4.0489, y절편= 28.1991\n",
      "Epoch: 20400, loss= 0.0048, 기울기 a= -4.0782, y절편= 28.4040\n",
      "Epoch: 21000, loss= 0.0047, 기울기 a= -4.1067, y절편= 28.6032\n",
      "Epoch: 21600, loss= 0.0046, 기울기 a= -4.1343, y절편= 28.7970\n",
      "Epoch: 22200, loss= 0.0045, 기울기 a= -4.1613, y절편= 28.9856\n",
      "Epoch: 22800, loss= 0.0043, 기울기 a= -4.1875, y절편= 29.1693\n",
      "Epoch: 23400, loss= 0.0042, 기울기 a= -4.2131, y절편= 29.3484\n",
      "Epoch: 24000, loss= 0.0041, 기울기 a= -4.2380, y절편= 29.5231\n",
      "Epoch: 24600, loss= 0.0040, 기울기 a= -4.2624, y절편= 29.6936\n",
      "Epoch: 25200, loss= 0.0039, 기울기 a= -4.2861, y절편= 29.8601\n",
      "Epoch: 25800, loss= 0.0039, 기울기 a= -4.3094, y절편= 30.0228\n",
      "Epoch: 26400, loss= 0.0038, 기울기 a= -4.3321, y절편= 30.1818\n",
      "Epoch: 27000, loss= 0.0037, 기울기 a= -4.3543, y절편= 30.3373\n",
      "Epoch: 27600, loss= 0.0036, 기울기 a= -4.3760, y절편= 30.4895\n",
      "Epoch: 28200, loss= 0.0035, 기울기 a= -4.3973, y절편= 30.6385\n",
      "Epoch: 28800, loss= 0.0035, 기울기 a= -4.4182, y절편= 30.7844\n",
      "Epoch: 29400, loss= 0.0034, 기울기 a= -4.4386, y절편= 30.9274\n",
      "Epoch: 30000, loss= 0.0033, 기울기 a= -4.4586, y절편= 31.0675\n",
      "Epoch: 30600, loss= 0.0033, 기울기 a= -4.4782, y절편= 31.2050\n",
      "Epoch: 31200, loss= 0.0032, 기울기 a= -4.4975, y절편= 31.3398\n",
      "Epoch: 31800, loss= 0.0031, 기울기 a= -4.5164, y절편= 31.4721\n",
      "Epoch: 32400, loss= 0.0031, 기울기 a= -4.5349, y절편= 31.6019\n",
      "Epoch: 33000, loss= 0.0030, 기울기 a= -4.5531, y절편= 31.7294\n",
      "Epoch: 33600, loss= 0.0030, 기울기 a= -4.5710, y절편= 31.8547\n",
      "Epoch: 34200, loss= 0.0029, 기울기 a= -4.5886, y절편= 31.9777\n",
      "Epoch: 34800, loss= 0.0029, 기울기 a= -4.6059, y절편= 32.0987\n",
      "Epoch: 35400, loss= 0.0028, 기울기 a= -4.6229, y절편= 32.2176\n",
      "Epoch: 36000, loss= 0.0028, 기울기 a= -4.6396, y절편= 32.3346\n",
      "Epoch: 36600, loss= 0.0027, 기울기 a= -4.6560, y절편= 32.4497\n",
      "Epoch: 37200, loss= 0.0027, 기울기 a= -4.6722, y절편= 32.5629\n",
      "Epoch: 37800, loss= 0.0026, 기울기 a= -4.6881, y절편= 32.6743\n",
      "Epoch: 38400, loss= 0.0026, 기울기 a= -4.7037, y절편= 32.7840\n",
      "Epoch: 39000, loss= 0.0026, 기울기 a= -4.7192, y절편= 32.8920\n",
      "Epoch: 39600, loss= 0.0025, 기울기 a= -4.7344, y절편= 32.9984\n",
      "Epoch: 40200, loss= 0.0025, 기울기 a= -4.7493, y절편= 33.1032\n",
      "Epoch: 40800, loss= 0.0025, 기울기 a= -4.7641, y절편= 33.2065\n",
      "Epoch: 41400, loss= 0.0024, 기울기 a= -4.7786, y절편= 33.3083\n",
      "Epoch: 42000, loss= 0.0024, 기울기 a= -4.7930, y절편= 33.4086\n",
      "Epoch: 42600, loss= 0.0023, 기울기 a= -4.8071, y절편= 33.5076\n",
      "Epoch: 43200, loss= 0.0023, 기울기 a= -4.8210, y절편= 33.6051\n",
      "Epoch: 43800, loss= 0.0023, 기울기 a= -4.8348, y절편= 33.7014\n",
      "Epoch: 44400, loss= 0.0023, 기울기 a= -4.8483, y절편= 33.7963\n",
      "Epoch: 45000, loss= 0.0022, 기울기 a= -4.8617, y절편= 33.8900\n",
      "Epoch: 45600, loss= 0.0022, 기울기 a= -4.8749, y절편= 33.9825\n",
      "Epoch: 46200, loss= 0.0022, 기울기 a= -4.8880, y절편= 34.0737\n",
      "Epoch: 46800, loss= 0.0021, 기울기 a= -4.9008, y절편= 34.1638\n",
      "Epoch: 47400, loss= 0.0021, 기울기 a= -4.9135, y절편= 34.2528\n",
      "Epoch: 48000, loss= 0.0021, 기울기 a= -4.9261, y절편= 34.3406\n",
      "Epoch: 48600, loss= 0.0021, 기울기 a= -4.9385, y절편= 34.4274\n",
      "Epoch: 49200, loss= 0.0020, 기울기 a= -4.9507, y절편= 34.5131\n",
      "Epoch: 49800, loss= 0.0020, 기울기 a= -4.9628, y절편= 34.5977\n",
      "Epoch: 50400, loss= 0.0020, 기울기 a= -4.9748, y절편= 34.6814\n",
      "Epoch: 51000, loss= 0.0020, 기울기 a= -4.9866, y절편= 34.7641\n",
      "Epoch: 51600, loss= 0.0019, 기울기 a= -4.9982, y절편= 34.8458\n",
      "Epoch: 52200, loss= 0.0019, 기울기 a= -5.0098, y절편= 34.9266\n",
      "Epoch: 52800, loss= 0.0019, 기울기 a= -5.0212, y절편= 35.0065\n",
      "Epoch: 53400, loss= 0.0019, 기울기 a= -5.0325, y절편= 35.0855\n",
      "Epoch: 54000, loss= 0.0019, 기울기 a= -5.0436, y절편= 35.1636\n",
      "Epoch: 54600, loss= 0.0018, 기울기 a= -5.0547, y절편= 35.2409\n",
      "Epoch: 55200, loss= 0.0018, 기울기 a= -5.0656, y절편= 35.3173\n",
      "Epoch: 55800, loss= 0.0018, 기울기 a= -5.0764, y절편= 35.3929\n",
      "Epoch: 56400, loss= 0.0018, 기울기 a= -5.0871, y절편= 35.4677\n",
      "Epoch: 57000, loss= 0.0018, 기울기 a= -5.0976, y절편= 35.5417\n",
      "Epoch: 57600, loss= 0.0017, 기울기 a= -5.1081, y절편= 35.6149\n",
      "Epoch: 58200, loss= 0.0017, 기울기 a= -5.1185, y절편= 35.6874\n",
      "Epoch: 58800, loss= 0.0017, 기울기 a= -5.1287, y절편= 35.7591\n",
      "Epoch: 59400, loss= 0.0017, 기울기 a= -5.1388, y절편= 35.8302\n",
      "Epoch: 60000, loss= 0.0017, 기울기 a= -5.1489, y절편= 35.9005\n"
     ]
    }
   ],
   "source": [
    "# 학습\n",
    "with tf.Session() as sess:\n",
    "    sess.run(tf.global_variables_initializer())\n",
    "    \n",
    "    for i in range(60001):\n",
    "        sess.run(gradient_decent)\n",
    "        if i % 600 == 0:\n",
    "            print(\"Epoch: %.f, loss= %.4f, 기울기 a= %.4f, y절편= %.4f\" %(i,sess.run(loss),sess.run(a),sess.run(b)))"
   ]
  },
  {
   "cell_type": "markdown",
   "metadata": {},
   "source": [
    "### 오차(loss) 값이 줄어들고 a와 b의 최적값을 찾음"
   ]
  },
  {
   "cell_type": "code",
   "execution_count": null,
   "metadata": {},
   "outputs": [],
   "source": []
  }
 ],
 "metadata": {
  "kernelspec": {
   "display_name": "Python 3",
   "language": "python",
   "name": "python3"
  },
  "language_info": {
   "codemirror_mode": {
    "name": "ipython",
    "version": 3
   },
   "file_extension": ".py",
   "mimetype": "text/x-python",
   "name": "python",
   "nbconvert_exporter": "python",
   "pygments_lexer": "ipython3",
   "version": "3.6.5"
  }
 },
 "nbformat": 4,
 "nbformat_minor": 2
}
