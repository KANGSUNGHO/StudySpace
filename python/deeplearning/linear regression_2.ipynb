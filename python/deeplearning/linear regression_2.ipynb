{
 "cells": [
  {
   "cell_type": "code",
   "execution_count": 2,
   "metadata": {},
   "outputs": [],
   "source": [
    "import numpy as np"
   ]
  },
  {
   "cell_type": "code",
   "execution_count": 3,
   "metadata": {},
   "outputs": [],
   "source": [
    "# 기울기 a와 y절편 b\n",
    "\n",
    "ab = [3,76] # 가정으로 임의의 값을 넣은 것임"
   ]
  },
  {
   "cell_type": "code",
   "execution_count": 4,
   "metadata": {},
   "outputs": [],
   "source": [
    "# x, y의 데이터 값\n",
    "\n",
    "data = [[2,81],[4,93],[6,91],[8,97]]\n",
    "x = [i[0] for i in data]\n",
    "y = [i[1] for i in data]"
   ]
  },
  {
   "cell_type": "code",
   "execution_count": 19,
   "metadata": {},
   "outputs": [],
   "source": [
    "# y = ax + b에 a와 b값을 대입하여 결과를 출력하는 함수\n",
    "\n",
    "def predict(x):\n",
    "    return ab[0]*x + ab[1]"
   ]
  },
  {
   "cell_type": "code",
   "execution_count": 20,
   "metadata": {},
   "outputs": [],
   "source": [
    "#  RMSE 함수\n",
    "\n",
    "def rmse(p,a):\n",
    "    return np.sqrt(((p-a)**2).mean())"
   ]
  },
  {
   "cell_type": "code",
   "execution_count": 21,
   "metadata": {},
   "outputs": [],
   "source": [
    "# RMSE함수를 각 y값에 대입하여 최종 값을 구하는 함수\n",
    "\n",
    "def rmse_val(predict_result,y):\n",
    "    return rmse(np.array(predict_result),np.array(y))"
   ]
  },
  {
   "cell_type": "code",
   "execution_count": 22,
   "metadata": {},
   "outputs": [],
   "source": [
    "# 예측 값이 들어갈 빈 리스트\n",
    "\n",
    "predict_result = []"
   ]
  },
  {
   "cell_type": "code",
   "execution_count": 23,
   "metadata": {},
   "outputs": [
    {
     "name": "stdout",
     "output_type": "stream",
     "text": [
      "공부한 시간 = 2, 실제 점수 = 81, 예측 점수 = 82\n",
      "공부한 시간 = 4, 실제 점수 = 93, 예측 점수 = 88\n",
      "공부한 시간 = 6, 실제 점수 = 91, 예측 점수 = 94\n",
      "공부한 시간 = 8, 실제 점수 = 97, 예측 점수 = 100\n",
      "rmse 최종값: 3.3166247903554\n"
     ]
    }
   ],
   "source": [
    "# 모든 x값을 한번씩 대입하여\n",
    "\n",
    "for i in range(len(x)):\n",
    "    \n",
    "    # predict_result 리스트를 완성한다.\n",
    "    \n",
    "    predict_result.append(predict(x[i]))\n",
    "    print(\"공부한 시간 = %.f, 실제 점수 = %.f, 예측 점수 = %.f\" %(x[i],y[i],predict(x[i])))\n",
    "    \n",
    "# 최종 RMSE 출력\n",
    "\n",
    "print(\"rmse 최종값: \" + str(rmse_val(predict_result,y)))"
   ]
  },
  {
   "cell_type": "code",
   "execution_count": null,
   "metadata": {},
   "outputs": [],
   "source": []
  }
 ],
 "metadata": {
  "kernelspec": {
   "display_name": "Python 3",
   "language": "python",
   "name": "python3"
  },
  "language_info": {
   "codemirror_mode": {
    "name": "ipython",
    "version": 3
   },
   "file_extension": ".py",
   "mimetype": "text/x-python",
   "name": "python",
   "nbconvert_exporter": "python",
   "pygments_lexer": "ipython3",
   "version": "3.6.5"
  }
 },
 "nbformat": 4,
 "nbformat_minor": 2
}
